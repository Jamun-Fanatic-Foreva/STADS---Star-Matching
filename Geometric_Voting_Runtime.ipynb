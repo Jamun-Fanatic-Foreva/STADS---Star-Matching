{
 "cells": [
  {
   "cell_type": "code",
   "execution_count": 1,
   "metadata": {},
   "outputs": [],
   "source": [
    "import numpy as np\n",
    "import pandas as pd"
   ]
  },
  {
   "cell_type": "code",
   "execution_count": 22,
   "metadata": {},
   "outputs": [],
   "source": [
    "#Initializ with centroid data and the corresponding uncertainty generated from Feature Extraction\n",
    "STAR_CENTROIDS = np.array([[-3,4], [8,-6], [10,10], [5,5]]) \n",
    "STAR_CENTROIDS_UNCERTAINTY = np.array([[0.06], [0.004], [0.001], [0.002]])\n",
    "\n",
    "#Initialize \n",
    "CATALOGUE = pd.read_csv(\"Modified Star Catalogue.csv\")\n",
    "PROCESSED_CATALOGUE= pd.read_csv('Processed_Catalogue.csv')"
   ]
  },
  {
   "cell_type": "code",
   "execution_count": 23,
   "metadata": {},
   "outputs": [
    {
     "data": {
      "text/html": [
       "<div>\n",
       "<style scoped>\n",
       "    .dataframe tbody tr th:only-of-type {\n",
       "        vertical-align: middle;\n",
       "    }\n",
       "\n",
       "    .dataframe tbody tr th {\n",
       "        vertical-align: top;\n",
       "    }\n",
       "\n",
       "    .dataframe thead th {\n",
       "        text-align: right;\n",
       "    }\n",
       "</style>\n",
       "<table border=\"1\" class=\"dataframe\">\n",
       "  <thead>\n",
       "    <tr style=\"text-align: right;\">\n",
       "      <th></th>\n",
       "      <th>Star_ID1</th>\n",
       "      <th>Star_ID2</th>\n",
       "      <th>Ang_Distance</th>\n",
       "    </tr>\n",
       "  </thead>\n",
       "  <tbody>\n",
       "    <tr>\n",
       "      <th>925</th>\n",
       "      <td>23440</td>\n",
       "      <td>80559</td>\n",
       "      <td>-0.999995</td>\n",
       "    </tr>\n",
       "    <tr>\n",
       "      <th>2832</th>\n",
       "      <td>23440</td>\n",
       "      <td>57018</td>\n",
       "      <td>-0.999955</td>\n",
       "    </tr>\n",
       "    <tr>\n",
       "      <th>2537</th>\n",
       "      <td>23440</td>\n",
       "      <td>23564</td>\n",
       "      <td>-0.999867</td>\n",
       "    </tr>\n",
       "    <tr>\n",
       "      <th>2502</th>\n",
       "      <td>23440</td>\n",
       "      <td>1403</td>\n",
       "      <td>-0.999534</td>\n",
       "    </tr>\n",
       "    <tr>\n",
       "      <th>2242</th>\n",
       "      <td>23440</td>\n",
       "      <td>68540</td>\n",
       "      <td>-0.999342</td>\n",
       "    </tr>\n",
       "  </tbody>\n",
       "</table>\n",
       "</div>"
      ],
      "text/plain": [
       "      Star_ID1  Star_ID2  Ang_Distance\n",
       "925      23440     80559     -0.999995\n",
       "2832     23440     57018     -0.999955\n",
       "2537     23440     23564     -0.999867\n",
       "2502     23440      1403     -0.999534\n",
       "2242     23440     68540     -0.999342"
      ]
     },
     "execution_count": 23,
     "metadata": {},
     "output_type": "execute_result"
    }
   ],
   "source": [
    "def cos(row):\n",
    "    return np.cos(np.radians(row['Ang_Distance']))\n",
    "\n",
    "REFERENCE  = pd.DataFrame(columns=['Star_ID1', 'Star_ID2', 'Ang_Distance'])\n",
    "REFERENCE['Star_ID1'], REFERENCE['Star_ID2'] = PROCESSED_CATALOGUE['Star_ID1'], PROCESSED_CATALOGUE['Star_ID2']\n",
    "REFERENCE['Ang_Distance'] = PROCESSED_CATALOGUE.apply(cos, axis = 1)\n",
    "REFERENCE.sort_values('Ang_Distance' ,ascending=True, inplace=True)\n",
    "\n",
    "REFERENCE.head()"
   ]
  },
  {
   "cell_type": "code",
   "execution_count": 94,
   "metadata": {},
   "outputs": [
    {
     "data": {
      "text/html": [
       "<div>\n",
       "<style scoped>\n",
       "    .dataframe tbody tr th:only-of-type {\n",
       "        vertical-align: middle;\n",
       "    }\n",
       "\n",
       "    .dataframe tbody tr th {\n",
       "        vertical-align: top;\n",
       "    }\n",
       "\n",
       "    .dataframe thead th {\n",
       "        text-align: right;\n",
       "    }\n",
       "</style>\n",
       "<table border=\"1\" class=\"dataframe\">\n",
       "  <thead>\n",
       "    <tr style=\"text-align: right;\">\n",
       "      <th></th>\n",
       "      <th>Star_ID</th>\n",
       "      <th>Votes</th>\n",
       "    </tr>\n",
       "  </thead>\n",
       "  <tbody>\n",
       "    <tr>\n",
       "      <th>3614</th>\n",
       "      <td>64</td>\n",
       "      <td>0</td>\n",
       "    </tr>\n",
       "    <tr>\n",
       "      <th>2937</th>\n",
       "      <td>77</td>\n",
       "      <td>0</td>\n",
       "    </tr>\n",
       "    <tr>\n",
       "      <th>1237</th>\n",
       "      <td>91</td>\n",
       "      <td>0</td>\n",
       "    </tr>\n",
       "    <tr>\n",
       "      <th>3128</th>\n",
       "      <td>93</td>\n",
       "      <td>0</td>\n",
       "    </tr>\n",
       "    <tr>\n",
       "      <th>1881</th>\n",
       "      <td>107</td>\n",
       "      <td>0</td>\n",
       "    </tr>\n",
       "  </tbody>\n",
       "</table>\n",
       "</div>"
      ],
      "text/plain": [
       "      Star_ID Votes\n",
       "3614       64     0\n",
       "2937       77     0\n",
       "1237       91     0\n",
       "3128       93     0\n",
       "1881      107     0"
      ]
     },
     "execution_count": 94,
     "metadata": {},
     "output_type": "execute_result"
    }
   ],
   "source": [
    "VOTING_DF = pd.DataFrame(columns=['Star_ID', 'Votes'])\n",
    "VOTING_DF['Star_ID'] = CATALOGUE['StarID']\n",
    "VOTING_DF.sort_values('Star_ID', inplace = True, ascending = True)\n",
    "VOTING_DF['Votes'].values[:] = 0\n",
    "VOTING_DF.head()"
   ]
  },
  {
   "cell_type": "code",
   "execution_count": 25,
   "metadata": {},
   "outputs": [
    {
     "data": {
      "text/plain": [
       "array([[-3,  4],\n",
       "       [ 8, -6],\n",
       "       [10, 10],\n",
       "       [ 5,  5]])"
      ]
     },
     "execution_count": 25,
     "metadata": {},
     "output_type": "execute_result"
    }
   ],
   "source": [
    "STAR_CENTROIDS"
   ]
  },
  {
   "cell_type": "code",
   "execution_count": 26,
   "metadata": {},
   "outputs": [
    {
     "data": {
      "text/plain": [
       "array([[0.06 ],\n",
       "       [0.004],\n",
       "       [0.001],\n",
       "       [0.002]])"
      ]
     },
     "execution_count": 26,
     "metadata": {},
     "output_type": "execute_result"
    }
   ],
   "source": [
    "STAR_CENTROIDS_UNCERTAINTY"
   ]
  },
  {
   "cell_type": "code",
   "execution_count": 27,
   "metadata": {},
   "outputs": [
    {
     "data": {
      "text/plain": [
       "array([[-0.26832816,  0.35777088,  0.89442719],\n",
       "       [ 0.56568542, -0.42426407,  0.70710678],\n",
       "       [ 0.57735027,  0.57735027,  0.57735027],\n",
       "       [ 0.40824829,  0.40824829,  0.81649658]])"
      ]
     },
     "execution_count": 27,
     "metadata": {},
     "output_type": "execute_result"
    }
   ],
   "source": [
    "def starVectorTransform(centroid, focal_length=10):\n",
    "    '''\n",
    "    Generates the unit 3D vectors from given 2D centroids of stars on the \n",
    "    image frame with the focal point as the origin\n",
    "    \n",
    "    <Formula> - CubeStar Doc - Appendix B\n",
    "    '''\n",
    "    x, y = centroid\n",
    "    \n",
    "    temp = np.power(((x/focal_length)**2 + (y/focal_length)**2 + 1), -0.5)\n",
    "    ux = (x/focal_length)\n",
    "    uy = (y/focal_length)\n",
    "    uz = 1\n",
    "    return np.array([ux, uy, uz])*temp\n",
    "\n",
    "STAR_VECTORS = np.apply_along_axis(starVectorTransform, 1, STAR_CENTROIDS, focal_length=10 )\n",
    "STAR_VECTORS"
   ]
  },
  {
   "cell_type": "code",
   "execution_count": 28,
   "metadata": {},
   "outputs": [],
   "source": [
    "def vectorAngularDistance(vect1, vect2):\n",
    "    '''\n",
    "    Returns the angular distance [cos(theta)] between two unit vectors seperated by an angle theta\n",
    "    '''\n",
    "    return np.sum(vect1*vect2)\n",
    "\n",
    "def uncertaintyAngularDistance(u1, u2):\n",
    "    '''\n",
    "    Assumes that the uncertainty is a simple addition\n",
    "    '''\n",
    "    return u1 + u2"
   ]
  },
  {
   "cell_type": "code",
   "execution_count": 29,
   "metadata": {},
   "outputs": [
    {
     "data": {
      "text/plain": [
       "array([[ True,  True,  True,  True],\n",
       "       [ True,  True,  True,  True],\n",
       "       [ True,  True,  True,  True],\n",
       "       [ True,  True,  True,  True]])"
      ]
     },
     "execution_count": 29,
     "metadata": {},
     "output_type": "execute_result"
    }
   ],
   "source": [
    "#Generating square symmetric matrix of order (row X row), where row is the number of stars in the STAR_CENTROID array\n",
    "#Each element corresponds to the angular distance [cos(theta)] between vectors Star_i & Star_j separated by angle theta\n",
    "#Thus the diagonal elements will always be one\n",
    "\n",
    "rows, columns = STAR_CENTROIDS.shape\n",
    "ANGULAR_DISTANCE = np.zeros((rows,rows))\n",
    "for i in range(rows):\n",
    "    for j in range(i, rows):\n",
    "        dist_ij = vectorAngularDistance(STAR_VECTORS[i], STAR_VECTORS[j])\n",
    "        ANGULAR_DISTANCE[i,j] = ANGULAR_DISTANCE[j,i] = dist_ij\n",
    "\n",
    "#Symmetric Matrix\n",
    "ANGULAR_DISTANCE == ANGULAR_DISTANCE.T"
   ]
  },
  {
   "cell_type": "code",
   "execution_count": 30,
   "metadata": {},
   "outputs": [
    {
     "data": {
      "text/plain": [
       "array([[1.        , 0.32887688, 0.56803756, 0.76681158],\n",
       "       [0.32887688, 1.        , 0.48989795, 0.6350853 ],\n",
       "       [0.56803756, 0.48989795, 1.        , 0.94280904],\n",
       "       [0.76681158, 0.6350853 , 0.94280904, 1.        ]])"
      ]
     },
     "execution_count": 30,
     "metadata": {},
     "output_type": "execute_result"
    }
   ],
   "source": [
    "ANGULAR_DISTANCE"
   ]
  },
  {
   "cell_type": "code",
   "execution_count": 148,
   "metadata": {},
   "outputs": [
    {
     "data": {
      "text/html": [
       "<div>\n",
       "<style scoped>\n",
       "    .dataframe tbody tr th:only-of-type {\n",
       "        vertical-align: middle;\n",
       "    }\n",
       "\n",
       "    .dataframe tbody tr th {\n",
       "        vertical-align: top;\n",
       "    }\n",
       "\n",
       "    .dataframe thead th {\n",
       "        text-align: right;\n",
       "    }\n",
       "</style>\n",
       "<table border=\"1\" class=\"dataframe\">\n",
       "  <thead>\n",
       "    <tr style=\"text-align: right;\">\n",
       "      <th></th>\n",
       "      <th>Star_ID</th>\n",
       "      <th>Votes</th>\n",
       "    </tr>\n",
       "  </thead>\n",
       "  <tbody>\n",
       "    <tr>\n",
       "      <th>0</th>\n",
       "      <td>23440</td>\n",
       "      <td>993</td>\n",
       "    </tr>\n",
       "    <tr>\n",
       "      <th>1782</th>\n",
       "      <td>35673</td>\n",
       "      <td>1</td>\n",
       "    </tr>\n",
       "    <tr>\n",
       "      <th>2919</th>\n",
       "      <td>37766</td>\n",
       "      <td>1</td>\n",
       "    </tr>\n",
       "    <tr>\n",
       "      <th>3066</th>\n",
       "      <td>35830</td>\n",
       "      <td>1</td>\n",
       "    </tr>\n",
       "    <tr>\n",
       "      <th>1631</th>\n",
       "      <td>69629</td>\n",
       "      <td>1</td>\n",
       "    </tr>\n",
       "    <tr>\n",
       "      <th>4888</th>\n",
       "      <td>37428</td>\n",
       "      <td>1</td>\n",
       "    </tr>\n",
       "    <tr>\n",
       "      <th>3768</th>\n",
       "      <td>37400</td>\n",
       "      <td>1</td>\n",
       "    </tr>\n",
       "    <tr>\n",
       "      <th>4932</th>\n",
       "      <td>36949</td>\n",
       "      <td>1</td>\n",
       "    </tr>\n",
       "    <tr>\n",
       "      <th>2305</th>\n",
       "      <td>36924</td>\n",
       "      <td>1</td>\n",
       "    </tr>\n",
       "    <tr>\n",
       "      <th>4085</th>\n",
       "      <td>36891</td>\n",
       "      <td>1</td>\n",
       "    </tr>\n",
       "  </tbody>\n",
       "</table>\n",
       "</div>"
      ],
      "text/plain": [
       "      Star_ID Votes\n",
       "0       23440   993\n",
       "1782    35673     1\n",
       "2919    37766     1\n",
       "3066    35830     1\n",
       "1631    69629     1\n",
       "4888    37428     1\n",
       "3768    37400     1\n",
       "4932    36949     1\n",
       "2305    36924     1\n",
       "4085    36891     1"
      ]
     },
     "execution_count": 148,
     "metadata": {},
     "output_type": "execute_result"
    }
   ],
   "source": [
    "VOTING_DF['Votes'].values[:] = 0\n",
    "for i in range(rows):\n",
    "    for j in range(i+1, rows):\n",
    "        dist_ij = ANGULAR_DISTANCE[i,j]\n",
    "        uncert_ij = uncertaintyAngularDistance(STAR_CENTROIDS_UNCERTAINTY[i], STAR_CENTROIDS_UNCERTAINTY[j])\n",
    "        r_ij = [dist_ij - uncert_ij, dist_ij + uncert_ij]\n",
    "        \n",
    "        temp_df = REFERENCE[(REFERENCE['Ang_Distance']>r_ij[0][0]) & (REFERENCE['Ang_Distance']<r_ij[1][0])]\n",
    "        \n",
    "        for k in range(temp_df.shape[0]):\n",
    "            s1, s2, ad = temp_df.iloc[k]\n",
    "            VOTING_DF.loc[VOTING_DF['Star_ID'] == s1, 'Votes'] = VOTING_DF.loc[VOTING_DF['Star_ID'] == s1, 'Votes'] + 1\n",
    "            VOTING_DF.loc[VOTING_DF['Star_ID'] == s2, 'Votes'] = VOTING_DF.loc[VOTING_DF['Star_ID'] == s2, 'Votes'] + 1\n",
    "\n",
    "VOTING_DF.sort_values('Votes', inplace = True, ascending=False)\n",
    "VOTING_DF.head(10)"
   ]
  },
  {
   "cell_type": "code",
   "execution_count": null,
   "metadata": {},
   "outputs": [],
   "source": []
  }
 ],
 "metadata": {
  "hide_input": false,
  "kernelspec": {
   "display_name": "Python 3",
   "language": "python",
   "name": "python3"
  },
  "language_info": {
   "codemirror_mode": {
    "name": "ipython",
    "version": 3
   },
   "file_extension": ".py",
   "mimetype": "text/x-python",
   "name": "python",
   "nbconvert_exporter": "python",
   "pygments_lexer": "ipython3",
   "version": "3.7.3"
  },
  "latex_envs": {
   "LaTeX_envs_menu_present": true,
   "autoclose": false,
   "autocomplete": true,
   "bibliofile": "biblio.bib",
   "cite_by": "apalike",
   "current_citInitial": 1,
   "eqLabelWithNumbers": true,
   "eqNumInitial": 1,
   "hotkeys": {
    "equation": "Ctrl-E",
    "itemize": "Ctrl-I"
   },
   "labels_anchors": false,
   "latex_user_defs": false,
   "report_style_numbering": false,
   "user_envs_cfg": false
  },
  "varInspector": {
   "cols": {
    "lenName": 16,
    "lenType": 16,
    "lenVar": 40
   },
   "kernels_config": {
    "python": {
     "delete_cmd_postfix": "",
     "delete_cmd_prefix": "del ",
     "library": "var_list.py",
     "varRefreshCmd": "print(var_dic_list())"
    },
    "r": {
     "delete_cmd_postfix": ") ",
     "delete_cmd_prefix": "rm(",
     "library": "var_list.r",
     "varRefreshCmd": "cat(var_dic_list()) "
    }
   },
   "types_to_exclude": [
    "module",
    "function",
    "builtin_function_or_method",
    "instance",
    "_Feature"
   ],
   "window_display": false
  }
 },
 "nbformat": 4,
 "nbformat_minor": 2
}
