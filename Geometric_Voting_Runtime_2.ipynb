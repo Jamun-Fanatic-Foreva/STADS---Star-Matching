{
 "cells": [
  {
   "cell_type": "code",
   "execution_count": 25,
   "metadata": {},
   "outputs": [],
   "source": [
    "import numpy as np\n",
    "import pandas as pd\n",
    "from scipy.stats import mode"
   ]
  },
  {
   "cell_type": "code",
   "execution_count": 12,
   "metadata": {},
   "outputs": [],
   "source": [
    "#Initializ with centroid data and the corresponding uncertainty generated from Feature Extraction\n",
    "STAR_CENTROIDS = np.array([[-3,4], [8,-6], [10,10], [5,5]]) \n",
    "STAR_CENTROIDS_UNCERTAINTY = np.array([[0.06], [0.004], [0.001], [0.002]])\n",
    "NUM_STARS = STAR_CENTROIDS.shape[0]\n",
    "#Initialize \n",
    "CATALOGUE = pd.read_csv(\"Modified Star Catalogue.csv\")\n",
    "PROCESSED_CATALOGUE= pd.read_csv('Processed_Catalogue.csv')"
   ]
  },
  {
   "cell_type": "code",
   "execution_count": 4,
   "metadata": {},
   "outputs": [
    {
     "data": {
      "text/html": [
       "<div>\n",
       "<style scoped>\n",
       "    .dataframe tbody tr th:only-of-type {\n",
       "        vertical-align: middle;\n",
       "    }\n",
       "\n",
       "    .dataframe tbody tr th {\n",
       "        vertical-align: top;\n",
       "    }\n",
       "\n",
       "    .dataframe thead th {\n",
       "        text-align: right;\n",
       "    }\n",
       "</style>\n",
       "<table border=\"1\" class=\"dataframe\">\n",
       "  <thead>\n",
       "    <tr style=\"text-align: right;\">\n",
       "      <th></th>\n",
       "      <th>Star_ID1</th>\n",
       "      <th>Star_ID2</th>\n",
       "      <th>Ang_Distance</th>\n",
       "    </tr>\n",
       "  </thead>\n",
       "  <tbody>\n",
       "    <tr>\n",
       "      <th>925</th>\n",
       "      <td>23440</td>\n",
       "      <td>80559</td>\n",
       "      <td>-0.999995</td>\n",
       "    </tr>\n",
       "    <tr>\n",
       "      <th>2832</th>\n",
       "      <td>23440</td>\n",
       "      <td>57018</td>\n",
       "      <td>-0.999955</td>\n",
       "    </tr>\n",
       "    <tr>\n",
       "      <th>2537</th>\n",
       "      <td>23440</td>\n",
       "      <td>23564</td>\n",
       "      <td>-0.999867</td>\n",
       "    </tr>\n",
       "    <tr>\n",
       "      <th>2502</th>\n",
       "      <td>23440</td>\n",
       "      <td>1403</td>\n",
       "      <td>-0.999534</td>\n",
       "    </tr>\n",
       "    <tr>\n",
       "      <th>2242</th>\n",
       "      <td>23440</td>\n",
       "      <td>68540</td>\n",
       "      <td>-0.999342</td>\n",
       "    </tr>\n",
       "  </tbody>\n",
       "</table>\n",
       "</div>"
      ],
      "text/plain": [
       "      Star_ID1  Star_ID2  Ang_Distance\n",
       "925      23440     80559     -0.999995\n",
       "2832     23440     57018     -0.999955\n",
       "2537     23440     23564     -0.999867\n",
       "2502     23440      1403     -0.999534\n",
       "2242     23440     68540     -0.999342"
      ]
     },
     "execution_count": 4,
     "metadata": {},
     "output_type": "execute_result"
    }
   ],
   "source": [
    "def cos(row):\n",
    "    return np.cos(np.radians(row['Ang_Distance']))\n",
    "\n",
    "REFERENCE  = pd.DataFrame(columns=['Star_ID1', 'Star_ID2', 'Ang_Distance'])\n",
    "REFERENCE['Star_ID1'], REFERENCE['Star_ID2'] = PROCESSED_CATALOGUE['Star_ID1'], PROCESSED_CATALOGUE['Star_ID2']\n",
    "REFERENCE['Ang_Distance'] = PROCESSED_CATALOGUE.apply(cos, axis = 1)\n",
    "REFERENCE.sort_values('Ang_Distance' ,ascending=True, inplace=True)\n",
    "\n",
    "REFERENCE.head()"
   ]
  },
  {
   "cell_type": "code",
   "execution_count": 107,
   "metadata": {},
   "outputs": [
    {
     "data": {
      "text/plain": [
       "array([[ 2.34400000e+04,  8.05590000e+04, -9.99994623e-01],\n",
       "       [ 2.34400000e+04,  5.70180000e+04, -9.99954887e-01],\n",
       "       [ 2.34400000e+04,  2.35640000e+04, -9.99866872e-01],\n",
       "       ...,\n",
       "       [ 2.34400000e+04,  1.74600000e+03,  9.99125271e-01],\n",
       "       [ 2.34400000e+04,  6.88640000e+04,  9.99393299e-01],\n",
       "       [ 2.34400000e+04,  5.72240000e+04,  9.99698493e-01]])"
      ]
     },
     "execution_count": 107,
     "metadata": {},
     "output_type": "execute_result"
    }
   ],
   "source": [
    "REF_ARR = REFERENCE.to_numpy()\n",
    "REF_ARR"
   ]
  },
  {
   "cell_type": "code",
   "execution_count": 6,
   "metadata": {},
   "outputs": [
    {
     "data": {
      "text/plain": [
       "array([[-3,  4],\n",
       "       [ 8, -6],\n",
       "       [10, 10],\n",
       "       [ 5,  5]])"
      ]
     },
     "execution_count": 6,
     "metadata": {},
     "output_type": "execute_result"
    }
   ],
   "source": [
    "STAR_CENTROIDS"
   ]
  },
  {
   "cell_type": "code",
   "execution_count": 7,
   "metadata": {},
   "outputs": [
    {
     "data": {
      "text/plain": [
       "array([[0.06 ],\n",
       "       [0.004],\n",
       "       [0.001],\n",
       "       [0.002]])"
      ]
     },
     "execution_count": 7,
     "metadata": {},
     "output_type": "execute_result"
    }
   ],
   "source": [
    "STAR_CENTROIDS_UNCERTAINTY"
   ]
  },
  {
   "cell_type": "code",
   "execution_count": 8,
   "metadata": {},
   "outputs": [
    {
     "data": {
      "text/plain": [
       "array([[-0.26832816,  0.35777088,  0.89442719],\n",
       "       [ 0.56568542, -0.42426407,  0.70710678],\n",
       "       [ 0.57735027,  0.57735027,  0.57735027],\n",
       "       [ 0.40824829,  0.40824829,  0.81649658]])"
      ]
     },
     "execution_count": 8,
     "metadata": {},
     "output_type": "execute_result"
    }
   ],
   "source": [
    "def starVectorTransform(centroid, focal_length=10):\n",
    "    '''\n",
    "    Generates the unit 3D vectors from given 2D centroids of stars on the \n",
    "    image frame with the focal point as the origin\n",
    "    \n",
    "    <Formula> - CubeStar Doc - Appendix B\n",
    "    '''\n",
    "    x, y = centroid\n",
    "    \n",
    "    temp = np.power(((x/focal_length)**2 + (y/focal_length)**2 + 1), -0.5)\n",
    "    ux = (x/focal_length)\n",
    "    uy = (y/focal_length)\n",
    "    uz = 1\n",
    "    return np.array([ux, uy, uz])*temp\n",
    "\n",
    "STAR_VECTORS = np.apply_along_axis(starVectorTransform, 1, STAR_CENTROIDS, focal_length=10 )\n",
    "STAR_VECTORS"
   ]
  },
  {
   "cell_type": "code",
   "execution_count": 97,
   "metadata": {},
   "outputs": [],
   "source": [
    "def vectorAngularDistance(vect1, vect2):\n",
    "    '''\n",
    "    Returns the angular distance [cos(theta)] between two unit vectors seperated by an angle theta\n",
    "    '''\n",
    "    return np.sum(vect1*vect2)\n",
    "\n",
    "def uncertaintyAngularDistance(u1, u2):\n",
    "    '''\n",
    "    Assumes that the uncertainty is a simple addition\n",
    "    '''\n",
    "    return u1 + u2"
   ]
  },
  {
   "cell_type": "code",
   "execution_count": 121,
   "metadata": {},
   "outputs": [
    {
     "data": {
      "text/plain": [
       "array([[0, list([])],\n",
       "       [1, list([])],\n",
       "       [2, list([])],\n",
       "       [3, list([])]], dtype=object)"
      ]
     },
     "execution_count": 121,
     "metadata": {},
     "output_type": "execute_result"
    }
   ],
   "source": [
    "temp = [[1]]\n",
    "for i in range(NUM_STARS-1):\n",
    "    temp.append([])\n",
    "temp = np.array(temp)\n",
    "temp[0].remove(1)\n",
    "\n",
    "VOTE_LIST = np.vstack((np.arange(0, NUM_STARS), temp)).T\n",
    "VOTE_LIST"
   ]
  },
  {
   "cell_type": "code",
   "execution_count": 122,
   "metadata": {},
   "outputs": [],
   "source": [
    "for i in range(NUM_STARS):\n",
    "    for j in range(i+1, NUM_STARS):\n",
    "        d_ij = vectorAngularDistance(STAR_VECTORS[i], STAR_VECTORS[j])\n",
    "        e_ij = uncertaintyAngularDistance(STAR_CENTROIDS_UNCERTAINTY[i], STAR_CENTROIDS_UNCERTAINTY[j])[0]\n",
    "        r_ij = [d_ij - e_ij, d_ij + e_ij]\n",
    "        \n",
    "        ind = np.where( (REF_ARR[:, 2] >= r_ij[0]) & (REF_ARR[:,2] <= r_ij[1]) )\n",
    "        for k in REF_ARR[ind]:\n",
    "            s1, s2 = k[0], k[1]\n",
    "            VOTE_LIST[i, 1].append(s1)\n",
    "            VOTE_LIST[i, 1].append(s2)\n",
    "            VOTE_LIST[j, 1].append(s1)\n",
    "            VOTE_LIST[j, 1].append(s2)"
   ]
  },
  {
   "cell_type": "code",
   "execution_count": 220,
   "metadata": {},
   "outputs": [
    {
     "data": {
      "text/plain": [
       "array([[0, 0, 0],\n",
       "       [1, 0, 0],\n",
       "       [2, 0, 0],\n",
       "       [3, 0, 0]])"
      ]
     },
     "execution_count": 220,
     "metadata": {},
     "output_type": "execute_result"
    }
   ],
   "source": [
    "temp = np.arange(0, NUM_STARS)\n",
    "VOTE_LIST_2 = np.vstack((temp, np.zeros_like(temp),np.zeros_like(temp))).T\n",
    "#VOTE_LIST_2[:, 2] = -1\n",
    "VOTE_LIST_2"
   ]
  },
  {
   "cell_type": "code",
   "execution_count": 221,
   "metadata": {},
   "outputs": [],
   "source": [
    "for i in range(NUM_STARS):\n",
    "    VOTE_LIST_2[i,1] = mode(VOTE_LIST[i,1])[0][0]"
   ]
  },
  {
   "cell_type": "code",
   "execution_count": 222,
   "metadata": {},
   "outputs": [
    {
     "data": {
      "text/plain": [
       "array([[    0, 23440,     0],\n",
       "       [    1, 23440,     0],\n",
       "       [    2, 23440,     0],\n",
       "       [    3, 23440,     0]])"
      ]
     },
     "execution_count": 222,
     "metadata": {},
     "output_type": "execute_result"
    }
   ],
   "source": [
    "VOTE_LIST_2"
   ]
  },
  {
   "cell_type": "code",
   "execution_count": 223,
   "metadata": {},
   "outputs": [],
   "source": [
    "for i in range(NUM_STARS):\n",
    "    for j in range(i+1, NUM_STARS):\n",
    "        d_ij = vectorAngularDistance(STAR_VECTORS[i], STAR_VECTORS[j])\n",
    "        e_ij = uncertaintyAngularDistance(STAR_CENTROIDS_UNCERTAINTY[i], STAR_CENTROIDS_UNCERTAINTY[j])[0]\n",
    "        r_ij = [d_ij - e_ij, d_ij + e_ij]\n",
    "        s1, s2 = VOTE_LIST_2[i, 1], VOTE_LIST_2[j, 1]\n",
    "        \n",
    "        ind1 = np.where( (REF_ARR[:, 0] == s1) & (REF_ARR[:,1] == s2) )        \n",
    "        if ind1[0].shape != (0,):\n",
    "            if REF_ARR[ind1]>r_ij[0] and REF_ARR[ind1]<r_ij[1]:\n",
    "                VOTE_LIST_2[i,2] +=1\n",
    "                VOTE_LIST_2[j,2] +=1\n",
    "            continue\n",
    "        \n",
    "        ind2 = np.where( (REF_ARR[:, 0] == s2) & (REF_ARR[:,1] == s1) )\n",
    "        if ind2[0].shape != (0,):\n",
    "            if REF_ARR[ind2]>r_ij[0] and REF_ARR[ind2]<r_ij[1]:\n",
    "                VOTE_LIST_2[i,2] +=1\n",
    "                VOTE_LIST_2[j,2] +=1"
   ]
  },
  {
   "cell_type": "code",
   "execution_count": 224,
   "metadata": {},
   "outputs": [
    {
     "data": {
      "text/plain": [
       "array([[    0, 23440,     0],\n",
       "       [    1, 23440,     0],\n",
       "       [    2, 23440,     0],\n",
       "       [    3, 23440,     0]])"
      ]
     },
     "execution_count": 224,
     "metadata": {},
     "output_type": "execute_result"
    }
   ],
   "source": [
    "VOTE_LIST_2"
   ]
  },
  {
   "cell_type": "code",
   "execution_count": null,
   "metadata": {},
   "outputs": [],
   "source": []
  }
 ],
 "metadata": {
  "hide_input": false,
  "kernelspec": {
   "display_name": "Python 3",
   "language": "python",
   "name": "python3"
  },
  "language_info": {
   "codemirror_mode": {
    "name": "ipython",
    "version": 3
   },
   "file_extension": ".py",
   "mimetype": "text/x-python",
   "name": "python",
   "nbconvert_exporter": "python",
   "pygments_lexer": "ipython3",
   "version": "3.7.3"
  },
  "latex_envs": {
   "LaTeX_envs_menu_present": true,
   "autoclose": false,
   "autocomplete": true,
   "bibliofile": "biblio.bib",
   "cite_by": "apalike",
   "current_citInitial": 1,
   "eqLabelWithNumbers": true,
   "eqNumInitial": 1,
   "hotkeys": {
    "equation": "Ctrl-E",
    "itemize": "Ctrl-I"
   },
   "labels_anchors": false,
   "latex_user_defs": false,
   "report_style_numbering": false,
   "user_envs_cfg": false
  },
  "varInspector": {
   "cols": {
    "lenName": 16,
    "lenType": 16,
    "lenVar": 40
   },
   "kernels_config": {
    "python": {
     "delete_cmd_postfix": "",
     "delete_cmd_prefix": "del ",
     "library": "var_list.py",
     "varRefreshCmd": "print(var_dic_list())"
    },
    "r": {
     "delete_cmd_postfix": ") ",
     "delete_cmd_prefix": "rm(",
     "library": "var_list.r",
     "varRefreshCmd": "cat(var_dic_list()) "
    }
   },
   "types_to_exclude": [
    "module",
    "function",
    "builtin_function_or_method",
    "instance",
    "_Feature"
   ],
   "window_display": false
  }
 },
 "nbformat": 4,
 "nbformat_minor": 2
}
