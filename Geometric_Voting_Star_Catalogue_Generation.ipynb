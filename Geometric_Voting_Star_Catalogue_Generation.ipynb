{
 "cells": [
  {
   "cell_type": "code",
   "execution_count": 1,
   "metadata": {},
   "outputs": [],
   "source": [
    "import numpy as np\n",
    "import pandas as pd\n",
    "pi = np.pi \n",
    "cos = np.cos \n",
    "sin = np.sin\n",
    "acos = np.arccos"
   ]
  },
  {
   "cell_type": "code",
   "execution_count": 2,
   "metadata": {},
   "outputs": [],
   "source": [
    "CATALOGUE = pd.read_csv(\"Modified Star Catalogue.csv\")\n",
    "#StarID: The database primary key from a larger \"master database\" of stars\n",
    "#Mag: The star's apparent visual magnitude\n",
    "#RA, Dec: The star's right ascension and declination, for epoch 2000.0 (Unit - degrees)"
   ]
  },
  {
   "cell_type": "code",
   "execution_count": 3,
   "metadata": {},
   "outputs": [],
   "source": [
    "CATALOGUE.sort_values('Mag', inplace=True)"
   ]
  },
  {
   "cell_type": "code",
   "execution_count": 5,
   "metadata": {},
   "outputs": [
    {
     "data": {
      "text/html": [
       "<div>\n",
       "<style scoped>\n",
       "    .dataframe tbody tr th:only-of-type {\n",
       "        vertical-align: middle;\n",
       "    }\n",
       "\n",
       "    .dataframe tbody tr th {\n",
       "        vertical-align: top;\n",
       "    }\n",
       "\n",
       "    .dataframe thead th {\n",
       "        text-align: right;\n",
       "    }\n",
       "</style>\n",
       "<table border=\"1\" class=\"dataframe\">\n",
       "  <thead>\n",
       "    <tr style=\"text-align: right;\">\n",
       "      <th></th>\n",
       "      <th>StarID</th>\n",
       "      <th>RA</th>\n",
       "      <th>Dec</th>\n",
       "      <th>Mag</th>\n",
       "    </tr>\n",
       "  </thead>\n",
       "  <tbody>\n",
       "    <tr>\n",
       "      <th>0</th>\n",
       "      <td>23440</td>\n",
       "      <td>6.752569</td>\n",
       "      <td>-16.713143</td>\n",
       "      <td>-1.44</td>\n",
       "    </tr>\n",
       "    <tr>\n",
       "      <th>1</th>\n",
       "      <td>21936</td>\n",
       "      <td>6.399192</td>\n",
       "      <td>-52.695718</td>\n",
       "      <td>-0.62</td>\n",
       "    </tr>\n",
       "    <tr>\n",
       "      <th>2</th>\n",
       "      <td>50628</td>\n",
       "      <td>14.261208</td>\n",
       "      <td>19.187270</td>\n",
       "      <td>-0.05</td>\n",
       "    </tr>\n",
       "    <tr>\n",
       "      <th>3</th>\n",
       "      <td>51926</td>\n",
       "      <td>14.661361</td>\n",
       "      <td>-60.835147</td>\n",
       "      <td>-0.01</td>\n",
       "    </tr>\n",
       "    <tr>\n",
       "      <th>4</th>\n",
       "      <td>65795</td>\n",
       "      <td>18.615607</td>\n",
       "      <td>38.782993</td>\n",
       "      <td>0.03</td>\n",
       "    </tr>\n",
       "    <tr>\n",
       "      <th>5</th>\n",
       "      <td>17425</td>\n",
       "      <td>5.278138</td>\n",
       "      <td>45.999029</td>\n",
       "      <td>0.08</td>\n",
       "    </tr>\n",
       "    <tr>\n",
       "      <th>6</th>\n",
       "      <td>17301</td>\n",
       "      <td>5.242298</td>\n",
       "      <td>-8.201639</td>\n",
       "      <td>0.18</td>\n",
       "    </tr>\n",
       "    <tr>\n",
       "      <th>7</th>\n",
       "      <td>27267</td>\n",
       "      <td>7.655149</td>\n",
       "      <td>5.227508</td>\n",
       "      <td>0.40</td>\n",
       "    </tr>\n",
       "    <tr>\n",
       "      <th>9</th>\n",
       "      <td>19984</td>\n",
       "      <td>5.919525</td>\n",
       "      <td>7.407036</td>\n",
       "      <td>0.45</td>\n",
       "    </tr>\n",
       "    <tr>\n",
       "      <th>8</th>\n",
       "      <td>5297</td>\n",
       "      <td>1.628542</td>\n",
       "      <td>-57.236660</td>\n",
       "      <td>0.45</td>\n",
       "    </tr>\n",
       "  </tbody>\n",
       "</table>\n",
       "</div>"
      ],
      "text/plain": [
       "   StarID         RA        Dec   Mag\n",
       "0   23440   6.752569 -16.713143 -1.44\n",
       "1   21936   6.399192 -52.695718 -0.62\n",
       "2   50628  14.261208  19.187270 -0.05\n",
       "3   51926  14.661361 -60.835147 -0.01\n",
       "4   65795  18.615607  38.782993  0.03\n",
       "5   17425   5.278138  45.999029  0.08\n",
       "6   17301   5.242298  -8.201639  0.18\n",
       "7   27267   7.655149   5.227508  0.40\n",
       "9   19984   5.919525   7.407036  0.45\n",
       "8    5297   1.628542 -57.236660  0.45"
      ]
     },
     "execution_count": 5,
     "metadata": {},
     "output_type": "execute_result"
    }
   ],
   "source": [
    "CATALOGUE.head(10)"
   ]
  },
  {
   "cell_type": "code",
   "execution_count": 6,
   "metadata": {},
   "outputs": [
    {
     "data": {
      "text/html": [
       "<div>\n",
       "<style scoped>\n",
       "    .dataframe tbody tr th:only-of-type {\n",
       "        vertical-align: middle;\n",
       "    }\n",
       "\n",
       "    .dataframe tbody tr th {\n",
       "        vertical-align: top;\n",
       "    }\n",
       "\n",
       "    .dataframe thead th {\n",
       "        text-align: right;\n",
       "    }\n",
       "</style>\n",
       "<table border=\"1\" class=\"dataframe\">\n",
       "  <thead>\n",
       "    <tr style=\"text-align: right;\">\n",
       "      <th></th>\n",
       "      <th>Star_ID1</th>\n",
       "      <th>RA_1</th>\n",
       "      <th>Dec_1</th>\n",
       "      <th>Mag_1</th>\n",
       "      <th>Star_ID2</th>\n",
       "      <th>RA_2</th>\n",
       "      <th>Dec_2</th>\n",
       "      <th>Mag_2</th>\n",
       "    </tr>\n",
       "  </thead>\n",
       "  <tbody>\n",
       "  </tbody>\n",
       "</table>\n",
       "</div>"
      ],
      "text/plain": [
       "Empty DataFrame\n",
       "Columns: [Star_ID1, RA_1, Dec_1, Mag_1, Star_ID2, RA_2, Dec_2, Mag_2]\n",
       "Index: []"
      ]
     },
     "execution_count": 6,
     "metadata": {},
     "output_type": "execute_result"
    }
   ],
   "source": [
    "OB_CATALOGUE = pd.DataFrame(columns = ['Star_ID1','RA_1', 'Dec_1', 'Mag_1', 'Star_ID2', 'RA_2', 'Dec_2', 'Mag_2'])\n",
    "\n",
    "OB_CATALOGUE.head()"
   ]
  },
  {
   "cell_type": "markdown",
   "metadata": {},
   "source": [
    "# CATALOGUE GETTING GENERATED!\n",
    "# PLEASE DON'T STOP"
   ]
  },
  {
   "cell_type": "code",
   "execution_count": 26,
   "metadata": {
    "code_folding": []
   },
   "outputs": [
    {
     "name": "stdout",
     "output_type": "stream",
     "text": [
      "Percentage Done: 100.0\n"
     ]
    }
   ],
   "source": [
    "size, total_size = 1, 5068\n",
    "row_count = 0\n",
    "start = 0\n",
    "n = 1\n",
    "step = size/n\n",
    "for k in range(n):\n",
    "    k = k + 1\n",
    "    end = int(step*k)\n",
    "    for i in range(start, end):\n",
    "        for j in range(i, total_size):\n",
    "            if j != i:\n",
    "                s1, r1, d1, m1 = CATALOGUE.iloc[i]\n",
    "                s2, r2, d2, m2 = CATALOGUE.iloc[j]\n",
    "                OB_CATALOGUE.loc[row_count] = [s1] +  [r1] + [d1] + [m1] + [s2] + [r2] + [d2] + [m2]\n",
    "                row_count = row_count + 1\n",
    "    start = end\n",
    "    print('Percentage Done: ' + str(float(k*100)/n))\n",
    "    \n",
    "OB_CATALOGUE['Ang_Distance'] = OB_CATALOGUE.apply(angularDistance, axis = 1)\n",
    "\n",
    "OB_CATALOGUE.to_csv('Processed_Catalogue.csv')"
   ]
  },
  {
   "cell_type": "markdown",
   "metadata": {},
   "source": [
    "# CATALOGUE GETTING GENERATED!\n",
    "# PLEASE DON'T STOP"
   ]
  },
  {
   "cell_type": "code",
   "execution_count": 27,
   "metadata": {},
   "outputs": [
    {
     "data": {
      "text/html": [
       "<div>\n",
       "<style scoped>\n",
       "    .dataframe tbody tr th:only-of-type {\n",
       "        vertical-align: middle;\n",
       "    }\n",
       "\n",
       "    .dataframe tbody tr th {\n",
       "        vertical-align: top;\n",
       "    }\n",
       "\n",
       "    .dataframe thead th {\n",
       "        text-align: right;\n",
       "    }\n",
       "</style>\n",
       "<table border=\"1\" class=\"dataframe\">\n",
       "  <thead>\n",
       "    <tr style=\"text-align: right;\">\n",
       "      <th></th>\n",
       "      <th>Star_ID1</th>\n",
       "      <th>RA_1</th>\n",
       "      <th>Dec_1</th>\n",
       "      <th>Mag_1</th>\n",
       "      <th>Star_ID2</th>\n",
       "      <th>RA_2</th>\n",
       "      <th>Dec_2</th>\n",
       "      <th>Mag_2</th>\n",
       "      <th>Ang_Distance</th>\n",
       "    </tr>\n",
       "  </thead>\n",
       "  <tbody>\n",
       "    <tr>\n",
       "      <th>count</th>\n",
       "      <td>5067.0</td>\n",
       "      <td>5.067000e+03</td>\n",
       "      <td>5.067000e+03</td>\n",
       "      <td>5.067000e+03</td>\n",
       "      <td>5067.000000</td>\n",
       "      <td>5067.000000</td>\n",
       "      <td>5067.000000</td>\n",
       "      <td>5067.000000</td>\n",
       "      <td>5067.000000</td>\n",
       "    </tr>\n",
       "    <tr>\n",
       "      <th>mean</th>\n",
       "      <td>23440.0</td>\n",
       "      <td>6.752569e+00</td>\n",
       "      <td>-1.671314e+01</td>\n",
       "      <td>-1.440000e+00</td>\n",
       "      <td>42463.819814</td>\n",
       "      <td>11.917533</td>\n",
       "      <td>-2.455083</td>\n",
       "      <td>5.125232</td>\n",
       "      <td>89.981014</td>\n",
       "    </tr>\n",
       "    <tr>\n",
       "      <th>std</th>\n",
       "      <td>0.0</td>\n",
       "      <td>3.197758e-13</td>\n",
       "      <td>1.250679e-12</td>\n",
       "      <td>1.487846e-13</td>\n",
       "      <td>24591.604988</td>\n",
       "      <td>6.778313</td>\n",
       "      <td>40.454319</td>\n",
       "      <td>0.865316</td>\n",
       "      <td>44.978713</td>\n",
       "    </tr>\n",
       "    <tr>\n",
       "      <th>min</th>\n",
       "      <td>23440.0</td>\n",
       "      <td>6.752569e+00</td>\n",
       "      <td>-1.671314e+01</td>\n",
       "      <td>-1.440000e+00</td>\n",
       "      <td>64.000000</td>\n",
       "      <td>0.017944</td>\n",
       "      <td>-88.956511</td>\n",
       "      <td>-0.620000</td>\n",
       "      <td>1.407009</td>\n",
       "    </tr>\n",
       "    <tr>\n",
       "      <th>25%</th>\n",
       "      <td>23440.0</td>\n",
       "      <td>6.752569e+00</td>\n",
       "      <td>-1.671314e+01</td>\n",
       "      <td>-1.440000e+00</td>\n",
       "      <td>20832.500000</td>\n",
       "      <td>6.117643</td>\n",
       "      <td>-36.490518</td>\n",
       "      <td>4.790000</td>\n",
       "      <td>49.447438</td>\n",
       "    </tr>\n",
       "    <tr>\n",
       "      <th>50%</th>\n",
       "      <td>23440.0</td>\n",
       "      <td>6.752569e+00</td>\n",
       "      <td>-1.671314e+01</td>\n",
       "      <td>-1.440000e+00</td>\n",
       "      <td>42076.000000</td>\n",
       "      <td>11.616889</td>\n",
       "      <td>-3.074077</td>\n",
       "      <td>5.390000</td>\n",
       "      <td>89.659279</td>\n",
       "    </tr>\n",
       "    <tr>\n",
       "      <th>75%</th>\n",
       "      <td>23440.0</td>\n",
       "      <td>6.752569e+00</td>\n",
       "      <td>-1.671314e+01</td>\n",
       "      <td>-1.440000e+00</td>\n",
       "      <td>63535.500000</td>\n",
       "      <td>17.937997</td>\n",
       "      <td>29.412232</td>\n",
       "      <td>5.740000</td>\n",
       "      <td>130.008640</td>\n",
       "    </tr>\n",
       "    <tr>\n",
       "      <th>max</th>\n",
       "      <td>23440.0</td>\n",
       "      <td>6.752569e+00</td>\n",
       "      <td>-1.671314e+01</td>\n",
       "      <td>-1.440000e+00</td>\n",
       "      <td>87404.000000</td>\n",
       "      <td>23.998586</td>\n",
       "      <td>89.264138</td>\n",
       "      <td>6.000000</td>\n",
       "      <td>179.812106</td>\n",
       "    </tr>\n",
       "  </tbody>\n",
       "</table>\n",
       "</div>"
      ],
      "text/plain": [
       "       Star_ID1          RA_1         Dec_1         Mag_1      Star_ID2  \\\n",
       "count    5067.0  5.067000e+03  5.067000e+03  5.067000e+03   5067.000000   \n",
       "mean    23440.0  6.752569e+00 -1.671314e+01 -1.440000e+00  42463.819814   \n",
       "std         0.0  3.197758e-13  1.250679e-12  1.487846e-13  24591.604988   \n",
       "min     23440.0  6.752569e+00 -1.671314e+01 -1.440000e+00     64.000000   \n",
       "25%     23440.0  6.752569e+00 -1.671314e+01 -1.440000e+00  20832.500000   \n",
       "50%     23440.0  6.752569e+00 -1.671314e+01 -1.440000e+00  42076.000000   \n",
       "75%     23440.0  6.752569e+00 -1.671314e+01 -1.440000e+00  63535.500000   \n",
       "max     23440.0  6.752569e+00 -1.671314e+01 -1.440000e+00  87404.000000   \n",
       "\n",
       "              RA_2        Dec_2        Mag_2  Ang_Distance  \n",
       "count  5067.000000  5067.000000  5067.000000   5067.000000  \n",
       "mean     11.917533    -2.455083     5.125232     89.981014  \n",
       "std       6.778313    40.454319     0.865316     44.978713  \n",
       "min       0.017944   -88.956511    -0.620000      1.407009  \n",
       "25%       6.117643   -36.490518     4.790000     49.447438  \n",
       "50%      11.616889    -3.074077     5.390000     89.659279  \n",
       "75%      17.937997    29.412232     5.740000    130.008640  \n",
       "max      23.998586    89.264138     6.000000    179.812106  "
      ]
     },
     "execution_count": 27,
     "metadata": {},
     "output_type": "execute_result"
    }
   ],
   "source": [
    "OB_CATALOGUE.describe()"
   ]
  },
  {
   "cell_type": "code",
   "execution_count": null,
   "metadata": {
    "code_folding": []
   },
   "outputs": [],
   "source": []
  },
  {
   "cell_type": "code",
   "execution_count": null,
   "metadata": {},
   "outputs": [],
   "source": []
  },
  {
   "cell_type": "code",
   "execution_count": null,
   "metadata": {},
   "outputs": [],
   "source": []
  }
 ],
 "metadata": {
  "hide_input": false,
  "kernelspec": {
   "display_name": "Python 3",
   "language": "python",
   "name": "python3"
  },
  "language_info": {
   "codemirror_mode": {
    "name": "ipython",
    "version": 3
   },
   "file_extension": ".py",
   "mimetype": "text/x-python",
   "name": "python",
   "nbconvert_exporter": "python",
   "pygments_lexer": "ipython3",
   "version": "3.7.3"
  },
  "latex_envs": {
   "LaTeX_envs_menu_present": true,
   "autoclose": false,
   "autocomplete": true,
   "bibliofile": "biblio.bib",
   "cite_by": "apalike",
   "current_citInitial": 1,
   "eqLabelWithNumbers": true,
   "eqNumInitial": 1,
   "hotkeys": {
    "equation": "Ctrl-E",
    "itemize": "Ctrl-I"
   },
   "labels_anchors": false,
   "latex_user_defs": false,
   "report_style_numbering": false,
   "user_envs_cfg": false
  },
  "varInspector": {
   "cols": {
    "lenName": 16,
    "lenType": 16,
    "lenVar": 40
   },
   "kernels_config": {
    "python": {
     "delete_cmd_postfix": "",
     "delete_cmd_prefix": "del ",
     "library": "var_list.py",
     "varRefreshCmd": "print(var_dic_list())"
    },
    "r": {
     "delete_cmd_postfix": ") ",
     "delete_cmd_prefix": "rm(",
     "library": "var_list.r",
     "varRefreshCmd": "cat(var_dic_list()) "
    }
   },
   "types_to_exclude": [
    "module",
    "function",
    "builtin_function_or_method",
    "instance",
    "_Feature"
   ],
   "window_display": false
  }
 },
 "nbformat": 4,
 "nbformat_minor": 2
}
